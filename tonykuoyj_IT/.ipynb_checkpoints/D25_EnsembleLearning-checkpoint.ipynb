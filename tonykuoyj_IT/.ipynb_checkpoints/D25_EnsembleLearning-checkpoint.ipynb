{
 "cells": [
  {
   "cell_type": "code",
   "execution_count": 1,
   "metadata": {},
   "outputs": [],
   "source": [
    "# Ensemble learning 整體學習\n",
    "# 可以將數個分類器的預測結果綜合考慮，藉此達到顯著提升分類效果。\n",
    "\n",
    "# Bagging: 是 Bootstrap Aggregating 的簡稱。\n",
    "# AdaBoost\n",
    "# 多數使用決策樹作為基本分類器。"
   ]
  },
  {
   "cell_type": "code",
   "execution_count": 13,
   "metadata": {},
   "outputs": [
    {
     "name": "stdout",
     "output_type": "stream",
     "text": [
      "0.7798507462686567\n"
     ]
    }
   ],
   "source": [
    "# ================= Bagging ======================\n",
    "\n",
    "import numpy as np\n",
    "import pandas as pd\n",
    "from sklearn import model_selection, ensemble, preprocessing, metrics\n",
    "\n",
    "# 載入資料\n",
    "data = \"/Users/Ensyuan/IThelp/tonykuoyj/titanic_train.csv\"\n",
    "titanic_train = pd.read_csv(data)\n",
    "\n",
    "# 填補遺漏值\n",
    "age_median = np.nanmedian(titanic_train['Age'])\n",
    "# age_nan = titanic_train.loc[titanic_train['Age'].isnull()]\n",
    "new_Age = np.where(titanic_train['Age'].isnull(), age_median, titanic_train['Age'])\n",
    "# new_Age\n",
    "titanic_train['Age'] = new_Age\n",
    "\n",
    "# 創造 dummy variables\n",
    "label_encoder = preprocessing.LabelEncoder()\n",
    "encoded_Sex = label_encoder.fit_transform(titanic_train['Sex'])\n",
    "\n",
    "# 建立訓練與測試資料\n",
    "titanic_X = pd.DataFrame([titanic_train['Pclass'],\n",
    "                        encoded_Sex,\n",
    "                        titanic_train['Age']\n",
    "]).T\n",
    "\n",
    "titanic_y = titanic_train['Survived']\n",
    "train_X, test_X, train_y, test_y = model_selection.train_test_split(titanic_X, titanic_y, test_size = 0.3)\n",
    "\n",
    "# 建立 bagging 模型\n",
    "bag = ensemble.BaggingClassifier(n_estimators = 100)\n",
    "bag_fit = bag.fit(train_X, train_y)\n",
    "\n",
    "# 預測\n",
    "test_y_predicted = bag.predict(test_X)\n",
    "\n",
    "# 績效\n",
    "accuracy = metrics.accuracy_score(test_y, test_y_predicted)\n",
    "print(accuracy)"
   ]
  },
  {
   "cell_type": "code",
   "execution_count": 14,
   "metadata": {},
   "outputs": [],
   "source": [
    "# ================= AdaBoost ======================\n"
   ]
  },
  {
   "cell_type": "code",
   "execution_count": 15,
   "metadata": {},
   "outputs": [
    {
     "name": "stdout",
     "output_type": "stream",
     "text": [
      "0.7611940298507462\n"
     ]
    }
   ],
   "source": [
    "import numpy as np\n",
    "import pandas as pd\n",
    "from sklearn import model_selection, ensemble, preprocessing, metrics\n",
    "\n",
    "# 載入資料\n",
    "data = \"/Users/Ensyuan/IThelp/tonykuoyj/titanic_train.csv\"\n",
    "titanic_train = pd.read_csv(data)\n",
    "\n",
    "# 填補遺漏值\n",
    "age_median = np.nanmedian(titanic_train['Age'])\n",
    "# age_nan = titanic_train.loc[titanic_train['Age'].isnull()]\n",
    "new_Age = np.where(titanic_train['Age'].isnull(), age_median, titanic_train['Age'])\n",
    "# new_Age\n",
    "titanic_train['Age'] = new_Age\n",
    "\n",
    "# 創造 dummy variables\n",
    "label_encoder = preprocessing.LabelEncoder()\n",
    "encoded_Sex = label_encoder.fit_transform(titanic_train['Sex'])\n",
    "\n",
    "# 建立訓練與測試資料\n",
    "titanic_X = pd.DataFrame([titanic_train['Pclass'],\n",
    "                        encoded_Sex,\n",
    "                        titanic_train['Age']\n",
    "]).T\n",
    "\n",
    "titanic_y = titanic_train['Survived']\n",
    "train_X, test_X, train_y, test_y = model_selection.train_test_split(titanic_X, titanic_y, test_size = 0.3)\n",
    "\n",
    "# 建立 AdaBoosting 模型\n",
    "boost = ensemble.AdaBoostClassifier(n_estimators = 100)\n",
    "boost_fit = bag.fit(train_X, train_y)\n",
    "\n",
    "# 預測\n",
    "test_y_predicted = bag.predict(test_X)\n",
    "\n",
    "# 績效\n",
    "accuracy = metrics.accuracy_score(test_y, test_y_predicted)\n",
    "print(accuracy)"
   ]
  },
  {
   "cell_type": "code",
   "execution_count": null,
   "metadata": {},
   "outputs": [],
   "source": []
  }
 ],
 "metadata": {
  "kernelspec": {
   "display_name": "Python 3",
   "language": "python",
   "name": "python3"
  },
  "language_info": {
   "codemirror_mode": {
    "name": "ipython",
    "version": 3
   },
   "file_extension": ".py",
   "mimetype": "text/x-python",
   "name": "python",
   "nbconvert_exporter": "python",
   "pygments_lexer": "ipython3",
   "version": "3.8.5"
  }
 },
 "nbformat": 4,
 "nbformat_minor": 4
}
