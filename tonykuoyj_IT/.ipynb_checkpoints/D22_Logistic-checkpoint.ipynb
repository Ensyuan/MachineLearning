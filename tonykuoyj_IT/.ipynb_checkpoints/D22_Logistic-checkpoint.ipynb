{
 "cells": [
  {
   "cell_type": "code",
   "execution_count": 1,
   "metadata": {},
   "outputs": [],
   "source": [
    "# 複迴歸與 Logistic 迴歸\n",
    "\n",
    "# Logistic 迴歸是預測機率的方法，屬於二元分類的應用領域。"
   ]
  },
  {
   "cell_type": "code",
   "execution_count": 4,
   "metadata": {},
   "outputs": [
    {
     "name": "stdout",
     "output_type": "stream",
     "text": [
      "係數:  [41.51347826 -0.34088269]\n",
      "截距:  65.32391638894825\n"
     ]
    }
   ],
   "source": [
    "#----------------------------------\n",
    "# 建立複迴歸分析模型\n",
    "#----------------------------------\n",
    "\n",
    "# 使用連鎖蛋糕店的 店面面積（坪）與車站距離（公里）來預測分店單月銷售量（萬日圓）。\n",
    "\n",
    "import numpy as np\n",
    "from sklearn.linear_model import LinearRegression\n",
    "\n",
    "X = np.array([\n",
    "    [10, 80], [8, 0], [8, 200], [5, 200], [7, 300], \n",
    "    [8, 230], [7, 40], [9, 0], [6, 330], [9, 180]\n",
    "])\n",
    "\n",
    "y = np.array([469, 366, 371, 208, 246, 297, 363, 436, 198, 364])\n",
    "\n",
    "lm = LinearRegression()\n",
    "lm.fit(X, y)\n",
    "\n",
    "# 印出係數，截距\n",
    "print('係數: ',lm.coef_)\n",
    "print('截距: ', lm.intercept_)"
   ]
  },
  {
   "cell_type": "code",
   "execution_count": 8,
   "metadata": {},
   "outputs": [
    {
     "name": "stdout",
     "output_type": "stream",
     "text": [
      "預測銷量:  [442.96160353]\n"
     ]
    }
   ],
   "source": [
    "#----------------------------------\n",
    "# 利用複迴歸模型預測\n",
    "#----------------------------------\n",
    "\n",
    "import numpy as np\n",
    "from sklearn.linear_model import LinearRegression\n",
    "\n",
    "X = np.array([\n",
    "    [10, 80], [8, 0], [8, 200], [5, 200], [7, 300], \n",
    "    [8, 230], [7, 40], [9, 0], [6, 330], [9, 180]\n",
    "])\n",
    "\n",
    "y = np.array([469, 366, 371, 208, 246, 297, 363, 436, 198, 364])\n",
    "\n",
    "lm = LinearRegression()\n",
    "lm.fit(X, y)\n",
    "\n",
    "# 新蛋糕店資料\n",
    "to_be_predicted = np.array([\n",
    "    [10, 110]\n",
    "])\n",
    "\n",
    "predicted_sales = lm.predict(to_be_predicted)\n",
    "\n",
    "# 預測新蛋糕店的單月銷量\n",
    "\n",
    "print('預測銷量: ', predicted_sales)"
   ]
  },
  {
   "cell_type": "code",
   "execution_count": 9,
   "metadata": {},
   "outputs": [
    {
     "name": "stdout",
     "output_type": "stream",
     "text": [
      "417.3006119994701\n",
      "0.9452358526817111\n",
      "0.9295889534479143\n"
     ]
    }
   ],
   "source": [
    "#----------------------------------\n",
    "# 複迴歸模型的績效\n",
    "#----------------------------------\n",
    "\n",
    "# Mean squared error（MSE）\n",
    "# R-squared \n",
    "# Adjusted R-squared。\n",
    "\n",
    "mse = np.mean((lm.predict(X) -y)**2)\n",
    "r_squared = lm.score(X,y)\n",
    "adj_r_squared = r_squared - (1-r_squared)*(X.shape[1] / (X.shape[0] - X.shape[1]-1)) # ??\n",
    "\n",
    "# 印出模型績效\n",
    "print(mse)\n",
    "print(r_squared)\n",
    "print(adj_r_squared)"
   ]
  },
  {
   "cell_type": "code",
   "execution_count": 12,
   "metadata": {},
   "outputs": [],
   "source": [
    "#----------------------------------\n",
    "# 複迴歸模型的係數檢定\n",
    "#----------------------------------\n",
    "# 複迴歸模型我們通常還會檢定變數的顯著性，\n",
    "# 以 P-value 是否小於 0.05（信心水準 95%）來判定。"
   ]
  },
  {
   "cell_type": "code",
   "execution_count": 14,
   "metadata": {},
   "outputs": [
    {
     "name": "stdout",
     "output_type": "stream",
     "text": [
      "[0.00051435 0.00844837]\n"
     ]
    }
   ],
   "source": [
    "import numpy as np\n",
    "from sklearn.linear_model import LinearRegression\n",
    "from sklearn.feature_selection import f_regression\n",
    "\n",
    "X = np.array([\n",
    "    [10, 80], [8, 0], [8, 200], [5, 200], [7, 300], [8, 230], [7, 40], [9, 0], [6, 330], [9, 180]\n",
    "])\n",
    "y = np.array([469, 366, 371, 208, 246, 297, 363, 436, 198, 364])\n",
    "\n",
    "lm = LinearRegression()\n",
    "lm.fit(X, y)\n",
    "\n",
    "# 印出 p-value\n",
    "print(f_regression(X, y)[1])"
   ]
  },
  {
   "cell_type": "code",
   "execution_count": 30,
   "metadata": {},
   "outputs": [
    {
     "ename": "ValueError",
     "evalue": "matmul: Input operand 1 has a mismatch in its core dimension 0, with gufunc signature (n?,k),(k,m?)->(n?,m?) (size 2 is different from 1)",
     "output_type": "error",
     "traceback": [
      "\u001b[1;31m---------------------------------------------------------------------------\u001b[0m",
      "\u001b[1;31mValueError\u001b[0m                                Traceback (most recent call last)",
      "Input \u001b[1;32mIn [30]\u001b[0m, in \u001b[0;36m<cell line: 9>\u001b[1;34m()\u001b[0m\n\u001b[0;32m      7\u001b[0m plt\u001b[38;5;241m.\u001b[39mscatter(X[:,\u001b[38;5;241m0\u001b[39m], y, color\u001b[38;5;241m=\u001b[39m\u001b[38;5;124m'\u001b[39m\u001b[38;5;124mblack\u001b[39m\u001b[38;5;124m'\u001b[39m)\n\u001b[0;32m      8\u001b[0m \u001b[38;5;66;03m# plt.scatter(X[:,1], y, color='blue')\u001b[39;00m\n\u001b[1;32m----> 9\u001b[0m plt\u001b[38;5;241m.\u001b[39mplot(X[:,\u001b[38;5;241m0\u001b[39m], \u001b[43mlm\u001b[49m\u001b[38;5;241;43m.\u001b[39;49m\u001b[43mpredict\u001b[49m\u001b[43m(\u001b[49m\u001b[43mnp\u001b[49m\u001b[38;5;241;43m.\u001b[39;49m\u001b[43mreshape\u001b[49m\u001b[43m(\u001b[49m\u001b[43mX\u001b[49m\u001b[43m[\u001b[49m\u001b[43m:\u001b[49m\u001b[43m,\u001b[49m\u001b[38;5;241;43m0\u001b[39;49m\u001b[43m]\u001b[49m\u001b[43m,\u001b[49m\u001b[43m \u001b[49m\u001b[43m(\u001b[49m\u001b[38;5;28;43mlen\u001b[39;49m\u001b[43m(\u001b[49m\u001b[43mX\u001b[49m\u001b[43m[\u001b[49m\u001b[43m:\u001b[49m\u001b[43m,\u001b[49m\u001b[38;5;241;43m0\u001b[39;49m\u001b[43m]\u001b[49m\u001b[43m)\u001b[49m\u001b[43m,\u001b[49m\u001b[38;5;241;43m1\u001b[39;49m\u001b[43m)\u001b[49m\u001b[43m)\u001b[49m\u001b[43m)\u001b[49m, color\u001b[38;5;241m=\u001b[39m\u001b[38;5;124m'\u001b[39m\u001b[38;5;124mblack\u001b[39m\u001b[38;5;124m'\u001b[39m, linewidth\u001b[38;5;241m=\u001b[39m\u001b[38;5;241m1\u001b[39m)\n\u001b[0;32m     10\u001b[0m \u001b[38;5;66;03m# plt.plot(X[:,1], lm.predict(X), color='blue', linewidth=1)\u001b[39;00m\n\u001b[0;32m     11\u001b[0m plt\u001b[38;5;241m.\u001b[39mshow()\n",
      "File \u001b[1;32mC:\\ProgramData\\Anaconda3\\lib\\site-packages\\sklearn\\linear_model\\_base.py:225\u001b[0m, in \u001b[0;36mLinearModel.predict\u001b[1;34m(self, X)\u001b[0m\n\u001b[0;32m    211\u001b[0m \u001b[38;5;28;01mdef\u001b[39;00m \u001b[38;5;21mpredict\u001b[39m(\u001b[38;5;28mself\u001b[39m, X):\n\u001b[0;32m    212\u001b[0m     \u001b[38;5;124;03m\"\"\"\u001b[39;00m\n\u001b[0;32m    213\u001b[0m \u001b[38;5;124;03m    Predict using the linear model.\u001b[39;00m\n\u001b[0;32m    214\u001b[0m \n\u001b[1;32m   (...)\u001b[0m\n\u001b[0;32m    223\u001b[0m \u001b[38;5;124;03m        Returns predicted values.\u001b[39;00m\n\u001b[0;32m    224\u001b[0m \u001b[38;5;124;03m    \"\"\"\u001b[39;00m\n\u001b[1;32m--> 225\u001b[0m     \u001b[38;5;28;01mreturn\u001b[39;00m \u001b[38;5;28;43mself\u001b[39;49m\u001b[38;5;241;43m.\u001b[39;49m\u001b[43m_decision_function\u001b[49m\u001b[43m(\u001b[49m\u001b[43mX\u001b[49m\u001b[43m)\u001b[49m\n",
      "File \u001b[1;32mC:\\ProgramData\\Anaconda3\\lib\\site-packages\\sklearn\\linear_model\\_base.py:208\u001b[0m, in \u001b[0;36mLinearModel._decision_function\u001b[1;34m(self, X)\u001b[0m\n\u001b[0;32m    205\u001b[0m check_is_fitted(\u001b[38;5;28mself\u001b[39m)\n\u001b[0;32m    207\u001b[0m X \u001b[38;5;241m=\u001b[39m check_array(X, accept_sparse\u001b[38;5;241m=\u001b[39m[\u001b[38;5;124m'\u001b[39m\u001b[38;5;124mcsr\u001b[39m\u001b[38;5;124m'\u001b[39m, \u001b[38;5;124m'\u001b[39m\u001b[38;5;124mcsc\u001b[39m\u001b[38;5;124m'\u001b[39m, \u001b[38;5;124m'\u001b[39m\u001b[38;5;124mcoo\u001b[39m\u001b[38;5;124m'\u001b[39m])\n\u001b[1;32m--> 208\u001b[0m \u001b[38;5;28;01mreturn\u001b[39;00m \u001b[43msafe_sparse_dot\u001b[49m\u001b[43m(\u001b[49m\u001b[43mX\u001b[49m\u001b[43m,\u001b[49m\u001b[43m \u001b[49m\u001b[38;5;28;43mself\u001b[39;49m\u001b[38;5;241;43m.\u001b[39;49m\u001b[43mcoef_\u001b[49m\u001b[38;5;241;43m.\u001b[39;49m\u001b[43mT\u001b[49m\u001b[43m,\u001b[49m\n\u001b[0;32m    209\u001b[0m \u001b[43m                       \u001b[49m\u001b[43mdense_output\u001b[49m\u001b[38;5;241;43m=\u001b[39;49m\u001b[38;5;28;43;01mTrue\u001b[39;49;00m\u001b[43m)\u001b[49m \u001b[38;5;241m+\u001b[39m \u001b[38;5;28mself\u001b[39m\u001b[38;5;241m.\u001b[39mintercept_\n",
      "File \u001b[1;32mC:\\ProgramData\\Anaconda3\\lib\\site-packages\\sklearn\\utils\\extmath.py:151\u001b[0m, in \u001b[0;36msafe_sparse_dot\u001b[1;34m(a, b, dense_output)\u001b[0m\n\u001b[0;32m    149\u001b[0m         ret \u001b[38;5;241m=\u001b[39m np\u001b[38;5;241m.\u001b[39mdot(a, b)\n\u001b[0;32m    150\u001b[0m \u001b[38;5;28;01melse\u001b[39;00m:\n\u001b[1;32m--> 151\u001b[0m     ret \u001b[38;5;241m=\u001b[39m \u001b[43ma\u001b[49m\u001b[43m \u001b[49m\u001b[38;5;241;43m@\u001b[39;49m\u001b[43m \u001b[49m\u001b[43mb\u001b[49m\n\u001b[0;32m    153\u001b[0m \u001b[38;5;28;01mif\u001b[39;00m (sparse\u001b[38;5;241m.\u001b[39missparse(a) \u001b[38;5;129;01mand\u001b[39;00m sparse\u001b[38;5;241m.\u001b[39missparse(b)\n\u001b[0;32m    154\u001b[0m         \u001b[38;5;129;01mand\u001b[39;00m dense_output \u001b[38;5;129;01mand\u001b[39;00m \u001b[38;5;28mhasattr\u001b[39m(ret, \u001b[38;5;124m\"\u001b[39m\u001b[38;5;124mtoarray\u001b[39m\u001b[38;5;124m\"\u001b[39m)):\n\u001b[0;32m    155\u001b[0m     \u001b[38;5;28;01mreturn\u001b[39;00m ret\u001b[38;5;241m.\u001b[39mtoarray()\n",
      "\u001b[1;31mValueError\u001b[0m: matmul: Input operand 1 has a mismatch in its core dimension 0, with gufunc signature (n?,k),(k,m?)->(n?,m?) (size 2 is different from 1)"
     ]
    },
    {
     "data": {
      "image/png": "[encoded data removed]",
      "text/plain": [
       "<Figure size 432x288 with 1 Axes>"
      ]
     },
     "metadata": {
      "needs_background": "light"
     },
     "output_type": "display_data"
    }
   ],
   "source": [
    "#----------------------------------\n",
    "# 複迴歸模型視覺化 失敗\n",
    "#----------------------------------\n",
    "\n",
    "import matplotlib.pyplot as plt\n",
    "\n",
    "plt.scatter(X[:,0], y, color='black')\n",
    "# plt.scatter(X[:,1], y, color='blue')\n",
    "plt.plot(X[:,0], lm.predict(np.reshape(X[:,0], (len(X[:,0]),1))), color='black', linewidth=1)\n",
    "# plt.plot(X[:,1], lm.predict(X), color='blue', linewidth=1)\n",
    "plt.show()"
   ]
  },
  {
   "cell_type": "code",
   "execution_count": 32,
   "metadata": {},
   "outputs": [],
   "source": [
    "#----------------------------------\n",
    "# 建立 Logistic 迴歸模型\n",
    "#----------------------------------\n",
    "# 在Kaggle 著名的鐵達尼克號資料，\n",
    "# 我們使用 Sex，Pclass 與 Age 來預測 Survived。"
   ]
  },
  {
   "cell_type": "code",
   "execution_count": 36,
   "metadata": {},
   "outputs": [
    {
     "name": "stdout",
     "output_type": "stream",
     "text": [
      "[[-1.14125534 -2.519584   -0.03271785]]\n",
      "[4.58517765]\n"
     ]
    }
   ],
   "source": [
    "import pandas as pd\n",
    "import numpy as np\n",
    "from sklearn import preprocessing, linear_model\n",
    "\n",
    "# 載入資料\n",
    "data = \"/Users/Ensyuan/IThelp/tonykuoyj/titanic_train.csv\"\n",
    "titanic_train = pd.read_csv(data)\n",
    "\n",
    "# 填補遺漏值\n",
    "age_median = np.nanmedian(titanic_train['Age'])\n",
    "new_Age = np.where(titanic_train['Age'].isnull(), age_median, titanic_train['Age'])\n",
    "titanic_train['Age'] = new_Age\n",
    "\n",
    "# 創造 dummy variables # ??\n",
    "label_encoder = preprocessing.LabelEncoder()\n",
    "encoder_Sex = label_encoder.fit_transform(titanic_train['Sex'])\n",
    "\n",
    "# 建立訓練與測試資料\n",
    "train_X = pd.DataFrame([titanic_train['Pclass'],\n",
    "                        encoder_Sex,\n",
    "                        titanic_train['Age']\n",
    "]).T\n",
    "\n",
    "# 建立模型\n",
    "logistic_regr = linear_model.LogisticRegression()\n",
    "logistic_regr.fit(train_X, titanic_train['Survived'])\n",
    "\n",
    "# 印出係數，截距\n",
    "print(logistic_regr.coef_)\n",
    "print(logistic_regr.intercept_)\n"
   ]
  },
  {
   "cell_type": "code",
   "execution_count": 37,
   "metadata": {},
   "outputs": [
    {
     "name": "stdout",
     "output_type": "stream",
     "text": [
      "[2.53704739e-25 1.40606613e-69 5.27606885e-02]\n"
     ]
    }
   ],
   "source": [
    "#----------------------------------\n",
    "# Logistic 迴歸模型係數檢定\n",
    "#----------------------------------\n",
    "\n",
    "# 印出 p-value\n",
    "print(f_regression(train_X, titanic_train[\"Survived\"])[1])"
   ]
  },
  {
   "cell_type": "code",
   "execution_count": 39,
   "metadata": {},
   "outputs": [
    {
     "name": "stdout",
     "output_type": "stream",
     "text": [
      "0.7878787878787878\n"
     ]
    }
   ],
   "source": [
    "#----------------------------------\n",
    "# Logistic 迴歸模型績效\n",
    "#----------------------------------\n",
    "\n",
    "# 我們用**準確率（Accuracy）**衡量二元分類模型的績效。\n",
    "\n",
    "survived_predictions = logistic_regr.predict(train_X)\n",
    "accuracy = logistic_regr.score(train_X, titanic_train['Survived'])\n",
    "print(accuracy)"
   ]
  },
  {
   "cell_type": "code",
   "execution_count": null,
   "metadata": {},
   "outputs": [],
   "source": []
  }
 ],
 "metadata": {
  "kernelspec": {
   "display_name": "Python 3",
   "language": "python",
   "name": "python3"
  },
  "language_info": {
   "codemirror_mode": {
    "name": "ipython",
    "version": 3
   },
   "file_extension": ".py",
   "mimetype": "text/x-python",
   "name": "python",
   "nbconvert_exporter": "python",
   "pygments_lexer": "ipython3",
   "version": "3.8.5"
  }
 },
 "nbformat": 4,
 "nbformat_minor": 4
}
