{
 "cells": [
  {
   "cell_type": "code",
   "execution_count": 1,
   "metadata": {},
   "outputs": [],
   "source": [
    "# D26_RandomForest_SVM\n",
    "# 隨機森林 (Random Forest) 與 支持向量機 (Support vector machine, SVM)"
   ]
  },
  {
   "cell_type": "code",
   "execution_count": 16,
   "metadata": {},
   "outputs": [],
   "source": [
    "# ================= 隨機森林 (Random Forest) ======================\n",
    "\"\"\"\n",
    "隨機森林演算法會對資料從列方向（觀測值方向）與欄方向（變數方向）進行 Bootstrap sampling，\n",
    "得到不同的訓練資料，然後根據這些訓練資料得到一系列的決策樹分類器，假如產生了 5 個決策樹分類器，\n",
    "它們對某個觀測值的預測結果分別為 1, 0, 1, 1, 1，那麼隨機森林演算法的輸出結果就會是 1，\n",
    "這個過程與 Bagging 演算法相同，同樣稱為基本分類器的投票。\n",
    "隨機森林演算法在面對變數具有多元共線性或者不平衡資料（Unbalanced data）的情況時，\n",
    "是倍受青睞的演算法。\n",
    "\"\"\";"
   ]
  },
  {
   "cell_type": "code",
   "execution_count": 8,
   "metadata": {},
   "outputs": [
    {
     "name": "stdout",
     "output_type": "stream",
     "text": [
      "0.8059701492537313\n"
     ]
    }
   ],
   "source": [
    "import numpy as np\n",
    "import pandas as pd\n",
    "from sklearn import model_selection, ensemble, preprocessing, metrics\n",
    "\n",
    "# 載入資料\n",
    "data = \"/Users/Ensyuan/IThelp/tonykuoyj/titanic_train.csv\"\n",
    "titanic_train = pd.read_csv(data)\n",
    "\n",
    "# 填補遺漏值\n",
    "age_median = np.nanmedian(titanic_train['Age'])\n",
    "new_Age = np.where(titanic_train['Age'].isnull(), age_median, titanic_train['Age'])\n",
    "titanic_train['Age'] = new_Age\n",
    "\n",
    "# 創造 dummy variables # ??\n",
    "label_encoder = preprocessing.LabelEncoder()\n",
    "encoder_Sex = label_encoder.fit_transform(titanic_train['Sex'])\n",
    "\n",
    "# 建立訓練與測試資料\n",
    "titanic_X = pd.DataFrame([titanic_train['Pclass'],\n",
    "                        encoder_Sex,\n",
    "                        titanic_train['Age']\n",
    "]).T\n",
    "\n",
    "titanic_y = titanic_train['Survived']\n",
    "train_X, test_X, train_y, test_y = model_selection.train_test_split(titanic_X, titanic_y, test_size = 0.3)\n",
    "\n",
    "# 建立 random forest 模型\n",
    "forest = ensemble.RandomForestClassifier(n_estimators = 100)\n",
    "forest_fit = forest.fit(train_X, train_y)\n",
    "\n",
    "\n",
    "# 預測\n",
    "test_y_predicted = forest.predict(test_X)\n",
    "\n",
    "# 績效\n",
    "accuracy = metrics.accuracy_score(test_y, test_y_predicted)\n",
    "print(accuracy)"
   ]
  },
  {
   "cell_type": "code",
   "execution_count": 13,
   "metadata": {},
   "outputs": [],
   "source": [
    "# ============== 支持向量機 (Support vector machine, SVM) ===================\n",
    "\n",
    "\"\"\"\n",
    "資料科學家將分類器在訓練樣本可能過度配適(overfitting)的風險稱為 Empirical risk，\n",
    "分類器的推廣能力不足的風險稱為 Generalization risk，兩者的總和即為結構風險，\n",
    "而 支持向量機 就是在兩者之間取得最佳平衡點，進而得到一個在訓練資料績效不錯，\n",
    "亦能推廣適用的類似模型。\n",
    "\"\"\";\n"
   ]
  },
  {
   "cell_type": "code",
   "execution_count": 33,
   "metadata": {},
   "outputs": [
    {
     "name": "stdout",
     "output_type": "stream",
     "text": [
      "0.6305970149253731\n"
     ]
    }
   ],
   "source": [
    "import numpy as np\n",
    "import pandas as pd\n",
    "from sklearn import model_selection, svm, preprocessing, metrics\n",
    "\n",
    "# 載入資料\n",
    "data = \"/Users/Ensyuan/IThelp/tonykuoyj/titanic_train.csv\"\n",
    "titanic_train = pd.read_csv(data)\n",
    "\n",
    "# 填補遺漏值\n",
    "age_median = np.nanmedian(titanic_train['Age'])\n",
    "new_Age = np.where(titanic_train['Age'].isnull(), age_median, titanic_train['Age'])\n",
    "titanic_train['Age'] = new_Age\n",
    "\n",
    "# 創造 dummy variables # ??\n",
    "label_encoder = preprocessing.LabelEncoder()\n",
    "encoded_Sex = label_encoder.fit_transform(titanic_train['Sex'])\n",
    "\n",
    "# 建立訓練與測試資料\n",
    "titanic_X = pd.DataFrame([titanic_train['Pclass'],\n",
    "                        encoder_Sex,\n",
    "                        titanic_train['Age']\n",
    "]).T\n",
    "\n",
    "titanic_y = titanic_train['Survived']\n",
    "train_X, test_X, train_y, test_y = model_selection.train_test_split(titanic_X, titanic_y, test_size = 0.3)\n",
    "\n",
    "# 建立 SVC 模型\n",
    "svc = svm.SVC()\n",
    "svc_fit = svc.fit(train_X, train_y)\n",
    "\n",
    "# 預測\n",
    "test_y_predicted = svc.predict(test_X)\n",
    "\n",
    "# 績效\n",
    "accuracy = metrics.accuracy_score(test_y, test_y_predicted)\n",
    "print(accuracy)"
   ]
  },
  {
   "cell_type": "code",
   "execution_count": 17,
   "metadata": {},
   "outputs": [
    {
     "data": {
      "text/plain": [
       "'\\nAUC 是一個常見指標，\\n它同時考慮假警報率（False alarm rate）與命中率（True positive rate），\\nAUC 愈接近 1，就表示分類效果愈好；愈接近 0.5 就表示分類效果愈不好。\\n'"
      ]
     },
     "execution_count": 17,
     "metadata": {},
     "output_type": "execute_result"
    }
   ],
   "source": [
    "# ============== AUC (Area Under Curve) ===================\n",
    "\"\"\"\n",
    "AUC 是一個常見指標，\n",
    "它同時考慮假警報率（False alarm rate）與命中率（True positive rate），\n",
    "AUC 愈接近 1，就表示分類效果愈好；愈接近 0.5 就表示分類效果愈不好。\n",
    "\"\"\"\n"
   ]
  },
  {
   "cell_type": "code",
   "execution_count": 22,
   "metadata": {},
   "outputs": [
    {
     "name": "stdout",
     "output_type": "stream",
     "text": [
      "0.832089552238806\n",
      "0.8228797543113631\n"
     ]
    }
   ],
   "source": [
    "# ============== 隨機森林分類器的 AUC ===================\n",
    "\n",
    "import numpy as np\n",
    "import pandas as pd\n",
    "from sklearn import model_selection, ensemble, preprocessing, metrics\n",
    "\n",
    "# 載入資料\n",
    "data = \"/Users/Ensyuan/IThelp/tonykuoyj/titanic_train.csv\"\n",
    "titanic_train = pd.read_csv(data)\n",
    "\n",
    "# 填補遺漏值\n",
    "age_median = np.nanmedian(titanic_train['Age'])\n",
    "new_Age = np.where(titanic_train['Age'].isnull(), age_median, titanic_train['Age'])\n",
    "titanic_train['Age'] = new_Age\n",
    "\n",
    "# 創造 dummy variables # ??\n",
    "label_encoder = preprocessing.LabelEncoder()\n",
    "encoder_Sex = label_encoder.fit_transform(titanic_train['Sex'])\n",
    "\n",
    "# 建立訓練與測試資料\n",
    "titanic_X = pd.DataFrame([titanic_train['Pclass'],\n",
    "                        encoder_Sex,\n",
    "                        titanic_train['Age']\n",
    "]).T\n",
    "\n",
    "titanic_y = titanic_train['Survived']\n",
    "train_X, test_X, train_y, test_y = model_selection.train_test_split(titanic_X, titanic_y, test_size = 0.3)\n",
    "\n",
    "# 建立 random forest 模型\n",
    "forest = ensemble.RandomForestClassifier(n_estimators = 100)\n",
    "forest_fit = forest.fit(train_X, train_y)\n",
    "\n",
    "\n",
    "# 預測\n",
    "test_y_predicted = forest.predict(test_X)\n",
    "\n",
    "# 績效 1\n",
    "accuracy = metrics.accuracy_score(test_y, test_y_predicted)\n",
    "print(accuracy)\n",
    "\n",
    "# 績效 2\n",
    "fpr, tpr, thresholds = metrics.roc_curve(test_y, test_y_predicted)\n",
    "auc = metrics.auc(fpr, tpr)\n",
    "print(auc)\n"
   ]
  },
  {
   "cell_type": "code",
   "execution_count": 37,
   "metadata": {},
   "outputs": [
    {
     "name": "stdout",
     "output_type": "stream",
     "text": [
      "0.6268656716417911\n",
      "0.5141666666666668\n"
     ]
    }
   ],
   "source": [
    "# ============== 支持向量機分類器的 AUC ===================\n",
    "\n",
    "# 載入資料\n",
    "data = \"/Users/Ensyuan/IThelp/tonykuoyj/titanic_train.csv\"\n",
    "titanic_train = pd.read_csv(data)\n",
    "\n",
    "# 填補遺漏值\n",
    "age_median = np.nanmedian(titanic_train['Age'])\n",
    "new_Age = np.where(titanic_train['Age'].isnull(), age_median, titanic_train['Age'])\n",
    "titanic_train['Age'] = new_Age\n",
    "\n",
    "# 創造 dummy variables # ??\n",
    "label_encoder = preprocessing.LabelEncoder()\n",
    "encoded_Sex = label_encoder.fit_transform(titanic_train['Sex'])\n",
    "\n",
    "# 建立訓練與測試資料\n",
    "titanic_X = pd.DataFrame([titanic_train['Pclass'],\n",
    "                        encoder_Sex,\n",
    "                        titanic_train['Age']\n",
    "]).T\n",
    "\n",
    "titanic_y = titanic_train['Survived']\n",
    "train_X, test_X, train_y, test_y = model_selection.train_test_split(titanic_X, titanic_y, test_size = 0.3)\n",
    "\n",
    "# 建立 SVC 模型\n",
    "svc = svm.SVC()\n",
    "svc_fit = svc.fit(train_X, train_y)\n",
    "\n",
    "# 預測\n",
    "test_y_predicted = svc.predict(test_X)\n",
    "\n",
    "# 績效 1\n",
    "accuracy = metrics.accuracy_score(test_y, test_y_predicted)\n",
    "print(accuracy)\n",
    "\n",
    "# 績效 2\n",
    "fpr, tpr, thresholds = metrics.roc_curve(test_y, test_y_predicted)\n",
    "auc = metrics.auc(fpr, tpr)\n",
    "print(auc)"
   ]
  },
  {
   "cell_type": "code",
   "execution_count": null,
   "metadata": {},
   "outputs": [],
   "source": []
  },
  {
   "cell_type": "code",
   "execution_count": null,
   "metadata": {},
   "outputs": [],
   "source": []
  }
 ],
 "metadata": {
  "kernelspec": {
   "display_name": "Python 3",
   "language": "python",
   "name": "python3"
  },
  "language_info": {
   "codemirror_mode": {
    "name": "ipython",
    "version": 3
   },
   "file_extension": ".py",
   "mimetype": "text/x-python",
   "name": "python",
   "nbconvert_exporter": "python",
   "pygments_lexer": "ipython3",
   "version": "3.8.5"
  }
 },
 "nbformat": 4,
 "nbformat_minor": 4
}
